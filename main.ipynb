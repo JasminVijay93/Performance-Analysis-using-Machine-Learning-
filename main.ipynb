{
 "cells": [
  {
   "cell_type": "code",
   "execution_count": 2,
   "id": "17a79f07",
   "metadata": {
    "scrolled": false
   },
   "outputs": [
    {
     "name": "stdout",
     "output_type": "stream",
     "text": [
      "\u001b[1m\u001b[92mSTUDENT PERFORMANCE PREDICTION SYSTEM\u001b[00m\n",
      "\u001b[1m-------------------Exploratory Data Analysis Module-----------------\u001b[00m\n",
      "\u001b[92m\n",
      "\u001b[1m\n",
      "Mean Squared Error 1.98\n",
      "Root Mean Squared Error 1.41\n",
      "R2 score 0.85\n",
      "Accuracy of Random Forest Regressor before gridserachcv 85.2 %\n",
      "\u001b[1mDifference between predicted and expected value\u001b[00m\n"
     ]
    },
    {
     "data": {
      "text/html": [
       "<div>\n",
       "<style scoped>\n",
       "    .dataframe tbody tr th:only-of-type {\n",
       "        vertical-align: middle;\n",
       "    }\n",
       "\n",
       "    .dataframe tbody tr th {\n",
       "        vertical-align: top;\n",
       "    }\n",
       "\n",
       "    .dataframe thead th {\n",
       "        text-align: right;\n",
       "    }\n",
       "</style>\n",
       "<table border=\"1\" class=\"dataframe\">\n",
       "  <thead>\n",
       "    <tr style=\"text-align: right;\">\n",
       "      <th></th>\n",
       "      <th>expected value</th>\n",
       "      <th>predicted value</th>\n",
       "    </tr>\n",
       "  </thead>\n",
       "  <tbody>\n",
       "    <tr>\n",
       "      <th>0</th>\n",
       "      <td>14</td>\n",
       "      <td>12.965</td>\n",
       "    </tr>\n",
       "    <tr>\n",
       "      <th>1</th>\n",
       "      <td>10</td>\n",
       "      <td>9.910</td>\n",
       "    </tr>\n",
       "    <tr>\n",
       "      <th>2</th>\n",
       "      <td>13</td>\n",
       "      <td>14.370</td>\n",
       "    </tr>\n",
       "    <tr>\n",
       "      <th>3</th>\n",
       "      <td>12</td>\n",
       "      <td>12.435</td>\n",
       "    </tr>\n",
       "    <tr>\n",
       "      <th>4</th>\n",
       "      <td>12</td>\n",
       "      <td>12.830</td>\n",
       "    </tr>\n",
       "  </tbody>\n",
       "</table>\n",
       "</div>"
      ],
      "text/plain": [
       "   expected value  predicted value\n",
       "0              14           12.965\n",
       "1              10            9.910\n",
       "2              13           14.370\n",
       "3              12           12.435\n",
       "4              12           12.830"
      ]
     },
     "metadata": {},
     "output_type": "display_data"
    },
    {
     "data": {
      "image/png": "[encoded data removed]",
      "text/plain": [
       "<Figure size 432x288 with 1 Axes>"
      ]
     },
     "metadata": {
      "needs_background": "light"
     },
     "output_type": "display_data"
    },
    {
     "name": "stdout",
     "output_type": "stream",
     "text": [
      "           featureimportance\n",
      "G2                  0.555557\n",
      "G1                  0.218278\n",
      "absences            0.048727\n",
      "failures            0.029311\n",
      "Subject             0.013705\n",
      "age                 0.010663\n",
      "studytime           0.008795\n",
      "famrel              0.008137\n",
      "Walc                0.007578\n",
      "goout               0.007279\n"
     ]
    },
    {
     "data": {
      "image/png": "[encoded data removed]",
      "text/plain": [
       "<Figure size 432x288 with 1 Axes>"
      ]
     },
     "metadata": {
      "needs_background": "light"
     },
     "output_type": "display_data"
    },
    {
     "name": "stdout",
     "output_type": "stream",
     "text": [
      "The Best Parameters are {'bootstrap': True, 'max_depth': 4, 'max_features': 'auto', 'min_samples_split': 4, 'n_estimators': 100}\n",
      "\u001b[91m\n",
      "\u001b[1m\n",
      "\u001b[00m\n",
      "Mean square error 1.99\n",
      "root mean square error 1.41\n",
      "R2 score 0.85\n",
      "Accuracy of Random Forest Regressor after gridserachcv 85.41 %\n",
      "\u001b[00m\n"
     ]
    }
   ],
   "source": [
    "import Regression\n",
    "import EDA\n",
    "import Classification\n",
    "import pandas as pd\n",
    "from sklearn.preprocessing import StandardScaler, LabelEncoder\n",
    "from sklearn.model_selection import train_test_split\n",
    "\n",
    "\n",
    "#Color Palette\n",
    "bold='\\033[1m'\n",
    "close='\\033[00m'\n",
    "red='\\033[91m'\n",
    "green='\\033[92m'\n",
    "\n",
    "          \n",
    "def main():                           \n",
    "        #Creating 3 objects for each classes\n",
    "        e=EDA.EDAClass()\n",
    "        reg=Regression.RegressionClass()\n",
    "        cls=Classification.Classify()        \n",
    "        print(bold+green+\"STUDENT PERFORMANCE PREDICTION SYSTEM\"+close)        \n",
    "        #Calling EDA\n",
    "        \n",
    "        stud=e.EDA()\n",
    "        \n",
    "        #Encoding the data\n",
    "        trans_data=reg.transform(stud)         \n",
    "        #Calling Regression Function\n",
    "        #Back up the data to avoid overwrite\n",
    "        df_new=trans_data.copy()         \n",
    "        #Transform target variable\n",
    "#         le = LabelEncoder()\n",
    "#         df_new['G3']=le.fit_transform(df_new['G3'])         \n",
    "        #Assigning X and y \n",
    "        X= df_new.drop('G3',axis=1)\n",
    "        y = df_new['G3']\n",
    "        #Spliting training and test data in 80 : 20 proportion\n",
    "        X_train, X_test, y_train, y_test = train_test_split(X,y,test_size=0.20,random_state=0)       \n",
    "        scaler = StandardScaler()        \n",
    "        X_train = scaler.fit_transform(X_train)        \n",
    "        X_test = scaler.fit_transform(X_test)          \n",
    "        model=reg.RandomForestRegressor(X_train, X_test, y_train, y_test) \n",
    "        reg.scatterplot(X_test,y_test,model)\n",
    "        reg.feature_imp(X,model)\n",
    "        reg.GridSearchCV(X_train, X_test, y_train, y_test)\n",
    "        \n",
    "        #Calling Classifiers   \n",
    "        #Categorise data into three classes\n",
    "        cat = (-1, 10.0, 15.0,20.0)\n",
    "        cat_name = ['poor','average','excellent']\n",
    "        df_new['G3']= pd.cut(df_new['G3'], bins= cat, labels= cat_name)       \n",
    "    \n",
    "        X= df_new.drop('G3',axis=1)\n",
    "        y = df_new['G3']\n",
    "        #Spliting training and test data in 80 : 20 proportion\n",
    "        X_train, X_test, y_train, y_test = train_test_split(X,y,test_size=0.20,random_state=0)       \n",
    "        scaler = StandardScaler()        \n",
    "        X_train = scaler.fit_transform(X_train)        \n",
    "        X_test = scaler.fit_transform(X_test) \n",
    "        \n",
    "        \n",
    "        \n",
    "        #acc1=cls.RandomForstClassifier(X_train, X_test, y_train, y_test) \n",
    "        \n",
    "        #acc2=cls.SVM(X_train, X_test, y_train, y_test)    \n",
    "        \n",
    "        #acc3=cls.MLP(X_train, X_test, y_train, y_test)\n",
    "        \n",
    "        #print(bold+green+\"Accuracy of three model in Random Under Sampling RFC,SVM,MLP\",acc1,acc2,acc3,\"%\"+close)\n",
    "\n",
    "main()"
   ]
  },
  {
   "cell_type": "code",
   "execution_count": null,
   "id": "25d6d523",
   "metadata": {},
   "outputs": [],
   "source": []
  },
  {
   "cell_type": "code",
   "execution_count": null,
   "id": "a6b82af2",
   "metadata": {},
   "outputs": [],
   "source": []
  },
  {
   "cell_type": "code",
   "execution_count": null,
   "id": "34da8a14",
   "metadata": {},
   "outputs": [],
   "source": []
  }
 ],
 "metadata": {
  "kernelspec": {
   "display_name": "Python 3 (ipykernel)",
   "language": "python",
   "name": "python3"
  },
  "language_info": {
   "codemirror_mode": {
    "name": "ipython",
    "version": 3
   },
   "file_extension": ".py",
   "mimetype": "text/x-python",
   "name": "python",
   "nbconvert_exporter": "python",
   "pygments_lexer": "ipython3",
   "version": "3.9.7"
  }
 },
 "nbformat": 4,
 "nbformat_minor": 5
}
